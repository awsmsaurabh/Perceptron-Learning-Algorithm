{
 "cells": [
  {
   "cell_type": "code",
   "execution_count": 1,
   "metadata": {},
   "outputs": [],
   "source": [
    "#importing required liberary\n",
    "import numpy as np\n",
    "import pandas as pd\n",
    "from matplotlib import pyplot as plt"
   ]
  },
  {
   "cell_type": "code",
   "execution_count": 2,
   "metadata": {},
   "outputs": [],
   "source": [
    "#import datasets\n",
    "data=pd.read_csv(\"data.csv\");"
   ]
  },
  {
   "cell_type": "code",
   "execution_count": 3,
   "metadata": {},
   "outputs": [],
   "source": [
    "#Taking 70% of data as training set\n",
    "k=(int)(0.7*data['x0'].size)\n",
    "x=np.ones((k,3))\n",
    "x[:,0:]=np.array(data.loc[:k-1,['x0','x1','x2']])\n",
    "y=np.array(data.loc[:k-1,'y'])"
   ]
  },
  {
   "cell_type": "code",
   "execution_count": 4,
   "metadata": {},
   "outputs": [],
   "source": [
    "#Taking rest 30% as test data\n",
    "k1=(int)(0.3*data['x0'].size)\n",
    "x_test=np.ones((k1,3))\n",
    "x_test[:,0:]=np.array(data.loc[k:,['x0','x1','x2']])\n",
    "y_test=np.array(data.loc[k:,'y'])"
   ]
  },
  {
   "cell_type": "code",
   "execution_count": 5,
   "metadata": {},
   "outputs": [],
   "source": [
    "def sign(x):\n",
    "    if x<0:\n",
    "        return -1.0\n",
    "    else:\n",
    "        return 1.0"
   ]
  },
  {
   "cell_type": "code",
   "execution_count": 6,
   "metadata": {},
   "outputs": [],
   "source": [
    "#PLA algoritm\n",
    "m=0.0\n",
    "m=len(x[:,0])#size of train data\n",
    "#w is our coefficient w0x0+w1x1+w2x2=0\n",
    "w=np.array([0.0,0.0,0.0])"
   ]
  },
  {
   "cell_type": "code",
   "execution_count": 7,
   "metadata": {},
   "outputs": [],
   "source": [
    "for j in range(1000):\n",
    "    for i in range(m):\n",
    "        if y[i]!=sign((w*x[i,:]).sum()):\n",
    "            w=w+(y[i]*x[i,:])"
   ]
  },
  {
   "cell_type": "code",
   "execution_count": 8,
   "metadata": {},
   "outputs": [
    {
     "name": "stdout",
     "output_type": "stream",
     "text": [
      "[-213.           21.56354141   21.02140088]\n"
     ]
    }
   ],
   "source": [
    "print(w)"
   ]
  },
  {
   "cell_type": "code",
   "execution_count": 9,
   "metadata": {},
   "outputs": [],
   "source": [
    "#predicting y\n",
    "y_pred=np.zeros(len(x_test[:,0]))\n",
    "count=0 #for counting how many test point is misclassified\n",
    "for i in range(len(x_test[:,0])):\n",
    "    y_pred[i]=sign((w*x_test[i,:]).sum())\n",
    "    if y_pred[i]!=y_test[i]:#if missclassified\n",
    "        count+=1#increment count"
   ]
  },
  {
   "cell_type": "code",
   "execution_count": 10,
   "metadata": {},
   "outputs": [
    {
     "name": "stdout",
     "output_type": "stream",
     "text": [
      "0\n"
     ]
    }
   ],
   "source": [
    "#printing no of missclassified point\n",
    "print(count)#"
   ]
  },
  {
   "cell_type": "code",
   "execution_count": 11,
   "metadata": {},
   "outputs": [
    {
     "data": {
      "image/png": "[encoded data removed]",
      "text/plain": [
       "<Figure size 432x288 with 1 Axes>"
      ]
     },
     "metadata": {},
     "output_type": "display_data"
    }
   ],
   "source": [
    "#ploating training data set\n",
    "for i in range(len(x[:,0])):\n",
    "    if y[i]==+1:\n",
    "        plt.scatter(x[i,1],x[i,2],color='green',marker='+')\n",
    "    else:\n",
    "        plt.scatter(x[i,1],x[i,2],color='blue',marker='_')\n",
    "plt.plot(x[:,1],-1.0*(w[1]*x[:,1]+w[0])/w[2],color='red')#ploating red line\n",
    "plt.title(\"Train data set\")\n",
    "plt.xlabel(\"X1\")\n",
    "plt.ylabel(\"x2\")\n",
    "plt.show()"
   ]
  },
  {
   "cell_type": "code",
   "execution_count": 12,
   "metadata": {},
   "outputs": [
    {
     "data": {
      "image/png": "[encoded data removed]",
      "text/plain": [
       "<Figure size 432x288 with 1 Axes>"
      ]
     },
     "metadata": {},
     "output_type": "display_data"
    }
   ],
   "source": [
    "#ploating testing data set\n",
    "for i in range(len(x_test[:,0])):\n",
    "    if y_test[i]==y_pred[i]:\n",
    "        if y_test[i]==+1:\n",
    "            plt.scatter(x_test[i,1],x_test[i,2],color='green',marker='+')\n",
    "        else:\n",
    "            plt.scatter(x_test[i,1],x_test[i,2],color='blue',marker='_')\n",
    "    else:\n",
    "        plt.scatter(x_test[i,1],x_text[i,2],colour='red',marker='x')#Marking missclasified point with red x if any\n",
    "plt.plot(x_test[:,1],-1.0*(w[1]*x_test[:,1]+w[0])/w[2],color='red')#Ploating red line\n",
    "plt.title(\"Test data set\")\n",
    "plt.xlabel(\"X1\")\n",
    "plt.ylabel(\"x2\")\n",
    "plt.show()"
   ]
  },
  {
   "cell_type": "code",
   "execution_count": null,
   "metadata": {},
   "outputs": [],
   "source": []
  }
 ],
 "metadata": {
  "kernelspec": {
   "display_name": "Python 3",
   "language": "python",
   "name": "python3"
  },
  "language_info": {
   "codemirror_mode": {
    "name": "ipython",
    "version": 3
   },
   "file_extension": ".py",
   "mimetype": "text/x-python",
   "name": "python",
   "nbconvert_exporter": "python",
   "pygments_lexer": "ipython3",
   "version": "3.6.5"
  }
 },
 "nbformat": 4,
 "nbformat_minor": 2
}
